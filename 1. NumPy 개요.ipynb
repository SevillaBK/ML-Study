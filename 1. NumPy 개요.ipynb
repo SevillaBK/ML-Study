{
 "cells": [
  {
   "cell_type": "markdown",
   "metadata": {},
   "source": [
    "* **Numpy** : 파이썬에서 선형대수 기반의 프로그램을 쉽게 만들 수 있도록 지원하는 패키지\n",
    "\n",
    "  --> 많은 머신러닝 알고리즘이 넘파이 기반으로 작성되어 있고, 데이터 입출력도 넘파이 배열 타입을 사용하기 때문에 중요한 패키지"
   ]
  },
  {
   "cell_type": "markdown",
   "metadata": {},
   "source": [
    "# 넘파이 ndarray 개요\n",
    "\n",
    "* 넘파이의 기반 데이터 타입은 ndarray\n",
    "\n",
    "   --> ndarray를 이용해서 넘파이에서 다차원 베열을 쉽게 생성하고 다양한 연산을 수행할 수 있음"
   ]
  },
  {
   "cell_type": "code",
   "execution_count": 1,
   "metadata": {},
   "outputs": [],
   "source": [
    "# 넘파이 모듈 불러오기\n",
    "import numpy as np"
   ]
  },
  {
   "cell_type": "markdown",
   "metadata": {},
   "source": [
    "* 넘파이 array() 함수 : 파이썬의 리스트와 같은 다양한 인자를 입력받아 ndarray로 변환하는 기능을 수행\n",
    "  - 생성된 ndarray 배열의 shape변수는 ndarray의 행과 열의 수를 튜플 형태로 가지고 있음. 이를 통해 ndarray 배열의 차원을 알 수 있음"
   ]
  },
  {
   "cell_type": "code",
   "execution_count": 2,
   "metadata": {},
   "outputs": [
    {
     "name": "stdout",
     "output_type": "stream",
     "text": [
      "array1 type:  <class 'numpy.ndarray'>\n",
      "array1의 array 형태 (3,)\n",
      "\n",
      "array2 type: <class 'numpy.ndarray'>\n",
      "array2의 array 형태 (2, 3)\n",
      "\n",
      "array3 type: <class 'numpy.ndarray'>\n",
      "array3의 array 형태 (1, 3)\n"
     ]
    }
   ],
   "source": [
    "array1 = np.array([1, 2, 3])  ## 1차원 array\n",
    "print('array1 type: ', type(array1))\n",
    "print('array1의 array 형태', array1.shape)\n",
    "\n",
    "array2 = np.array([[1,2,3], \n",
    "                            [2,3,4]]) ## 2차원 array\n",
    "print('\\narray2 type:', type(array2))\n",
    "print('array2의 array 형태', array2.shape)\n",
    "\n",
    "array3 = np.array([[1,2,3]]) ## array1과 동일하지만 이 경우에는 명확히 열과 행을 가진 2차원 array\n",
    "print('\\narray3 type:', type(array3))\n",
    "print('array3의 array 형태', array3.shape)"
   ]
  },
  {
   "cell_type": "markdown",
   "metadata": {},
   "source": [
    "* array1과 array3은 명백히 다른 차원을 가지고 있음\n",
    "  --> [ ] : 1차원 , [[  ]] : 2차원\n",
    "\n",
    " --> 알고리즘 데이터 입출력, 변환시 명확히 1차원 또는 다차원 데이터를 요구하는 경우가 빈번하기 때문에 이 차이를 인지하는 것은 매우 중요"
   ]
  },
  {
   "cell_type": "code",
   "execution_count": 3,
   "metadata": {},
   "outputs": [
    {
     "name": "stdout",
     "output_type": "stream",
     "text": [
      "array1: 1차원\n",
      "array2: 2차원\n",
      "array3: 2차원\n"
     ]
    }
   ],
   "source": [
    "# 각 array의 차원을 ndarray.ndim을 이용해 확인\n",
    "print('array1: {:0}차원'.format(array1.ndim))\n",
    "print('array2: {:0}차원'.format(array2.ndim))\n",
    "print('array3: {:0}차원'.format(array3.ndim))"
   ]
  },
  {
   "cell_type": "markdown",
   "metadata": {},
   "source": [
    "# ndarray의 데이터 타입"
   ]
  },
  {
   "cell_type": "markdown",
   "metadata": {},
   "source": [
    "* ndarray 내의 데이터 값은 숫자, 문자열, 불 값 모두 가능\n",
    "    - 단, 하나의 array 내의 데이터 타입은 같은 데이터 타입만 가능(int 와 float도 함께 있을 수 없음)"
   ]
  },
  {
   "cell_type": "code",
   "execution_count": 4,
   "metadata": {},
   "outputs": [
    {
     "name": "stdout",
     "output_type": "stream",
     "text": [
      "<class 'list'>\n",
      "-----------------\n",
      "<class 'numpy.ndarray'>\n",
      "[1 2 3] int64\n"
     ]
    }
   ],
   "source": [
    "list1 = [1, 2, 3]\n",
    "print(type(list1))\n",
    "print('-----------------')\n",
    "array1 = np.array(list1)\n",
    "print(type(array1))\n",
    "print(array1, array1.dtype)"
   ]
  },
  {
   "cell_type": "markdown",
   "metadata": {},
   "source": [
    "* 서로 다른 데이터 유형이 섞여있는 리스트를 ndarray로 변경하려고 하면 데이터 크기가 더 큰 타입으로 형 변환을 일괄 적용함"
   ]
  },
  {
   "cell_type": "code",
   "execution_count": 5,
   "metadata": {},
   "outputs": [
    {
     "name": "stdout",
     "output_type": "stream",
     "text": [
      "['1' '2' 'test'] <U21\n",
      "유니코드 문자열값으로 데이터가 변환 되었음\n"
     ]
    }
   ],
   "source": [
    "### int와 str 형이 섞여 있는 리스트\n",
    "list2 = [1, 2, 'test']\n",
    "array2 = np.array(list2)\n",
    "print(array2, array2.dtype)\n",
    "print('유니코드 문자열값으로 데이터가 변환 되었음')"
   ]
  },
  {
   "cell_type": "code",
   "execution_count": 6,
   "metadata": {},
   "outputs": [
    {
     "name": "stdout",
     "output_type": "stream",
     "text": [
      "[1. 2. 3.] float64\n",
      "float형으로 데이터가 변환되었음\n"
     ]
    }
   ],
   "source": [
    "## int와 float형이 섞여 있는 리스트\n",
    "list3 = [1, 2, 3.0]\n",
    "array3 = np.array(list3)\n",
    "print(array3, array3.dtype)\n",
    "print('float형으로 데이터가 변환되었음')"
   ]
  },
  {
   "cell_type": "markdown",
   "metadata": {},
   "source": [
    "* ndarray 내의 데이터 타입 변경도 astype() 를 이용하면 가능 \n",
    "  - ndarray를 만들 때 많은 메모리가 사용되는데, 메모리를 더 절약할 때 이용가능.\n",
    "  \n",
    "     가령, int형만으로도 충분한데 float타입이라면 int형으로 바꿔서 메모리를 절약할 수 있음"
   ]
  },
  {
   "cell_type": "code",
   "execution_count": 7,
   "metadata": {},
   "outputs": [
    {
     "name": "stdout",
     "output_type": "stream",
     "text": [
      "[1. 2. 3.] float64\n"
     ]
    }
   ],
   "source": [
    "array_int = np.array([1, 2, 3])\n",
    "array_float = array_int.astype('float64')\n",
    "print(array_float, array_float.dtype)"
   ]
  },
  {
   "cell_type": "code",
   "execution_count": 8,
   "metadata": {},
   "outputs": [
    {
     "name": "stdout",
     "output_type": "stream",
     "text": [
      "[1 2 3] int32\n"
     ]
    }
   ],
   "source": [
    "array_int1 = array_float.astype('int32')\n",
    "print(array_int1, array_int1.dtype)"
   ]
  },
  {
   "cell_type": "code",
   "execution_count": 9,
   "metadata": {},
   "outputs": [
    {
     "name": "stdout",
     "output_type": "stream",
     "text": [
      "[1 2 3] int32\n",
      "int형으로 변환되면서 소수점이 사라짐\n"
     ]
    }
   ],
   "source": [
    "array_float1 = np.array([1.1, 2.1, 3.1])\n",
    "array_int2 = array_float1.astype('int32')\n",
    "print(array_int2, array_int2.dtype)\n",
    "print('int형으로 변환되면서 소수점이 사라짐')"
   ]
  },
  {
   "cell_type": "markdown",
   "metadata": {},
   "source": [
    "# ndarray 편리하게 생성하기 "
   ]
  },
  {
   "cell_type": "markdown",
   "metadata": {},
   "source": [
    "* 특정 크기, 차원을 가진 ndarray를 연속값이나 0, 1로 초기화해서 쉽게 생성해야할 경우\n",
    "    - arange() : 파이썬의 range와 비슷하게 0부터 '인자값-1'의 값을 순차적으로 ndarray의 값으로 변환해줌\n",
    "    \n",
    "    \n",
    "* 주로, 테스트용 데이터를 만들거나 대규모 데이터를 일괄적으로 초기화할 때 사용"
   ]
  },
  {
   "cell_type": "markdown",
   "metadata": {},
   "source": [
    "- arange() : 파이썬의 range와 비슷하게 0부터 '인자값-1'의 값을 순차적으로 ndarray의 값으로 변환해줌"
   ]
  },
  {
   "cell_type": "code",
   "execution_count": 10,
   "metadata": {},
   "outputs": [
    {
     "name": "stdout",
     "output_type": "stream",
     "text": [
      "[0 1 2 3 4 5 6 7 8 9]\n",
      "int64\n",
      "(10,)\n"
     ]
    }
   ],
   "source": [
    "sequence_array = np.arange(10)\n",
    "print(sequence_array)\n",
    "print(sequence_array.dtype)\n",
    "print(sequence_array.shape)"
   ]
  },
  {
   "cell_type": "code",
   "execution_count": 11,
   "metadata": {},
   "outputs": [
    {
     "name": "stdout",
     "output_type": "stream",
     "text": [
      "[3 4 5 6 7 8 9]\n"
     ]
    }
   ],
   "source": [
    "sequence_array2 = np.arange(3, 10) # 시작값을 설정할 수 도 있음\n",
    "print(sequence_array2)"
   ]
  },
  {
   "cell_type": "markdown",
   "metadata": {},
   "source": [
    "- zeros() : 튜플형태의 shape 값을 입력하면, 모든 값을 0으로 채운 ndarray를 반환\n",
    "- ones() :  튜플형태의 shape 값을 입력하면, 모든 값을 1으로 채운 ndarray를 반환\n",
    "      --> 함수 인자로 dtpye을 설정하지 않으면 default로 float64형의 데이터로 ndarray 생성   "
   ]
  },
  {
   "cell_type": "code",
   "execution_count": 12,
   "metadata": {},
   "outputs": [
    {
     "name": "stdout",
     "output_type": "stream",
     "text": [
      "[[0 0]\n",
      " [0 0]\n",
      " [0 0]]\n",
      "int32\n",
      "(3, 2)\n"
     ]
    }
   ],
   "source": [
    "zero_array = np.zeros((3, 2), dtype='int32')\n",
    "print(zero_array)\n",
    "print(zero_array.dtype)\n",
    "print(zero_array.shape)"
   ]
  },
  {
   "cell_type": "code",
   "execution_count": 13,
   "metadata": {},
   "outputs": [
    {
     "name": "stdout",
     "output_type": "stream",
     "text": [
      "[[1 1 1]\n",
      " [1 1 1]]\n",
      "int32\n",
      "(2, 3)\n"
     ]
    }
   ],
   "source": [
    "one_array = np.ones((2,3), dtype='int32')\n",
    "print(one_array)\n",
    "print(one_array.dtype)\n",
    "print(one_array.shape)"
   ]
  },
  {
   "cell_type": "markdown",
   "metadata": {},
   "source": [
    "# ndarray의 차원과 크기를 변경하는 reshape()"
   ]
  },
  {
   "cell_type": "code",
   "execution_count": 14,
   "metadata": {},
   "outputs": [
    {
     "name": "stdout",
     "output_type": "stream",
     "text": [
      "array1: \n",
      " [0 1 2 3 4 5 6 7 8 9]\n"
     ]
    }
   ],
   "source": [
    "array1 = np.arange(10)\n",
    "print('array1: \\n', array1)"
   ]
  },
  {
   "cell_type": "code",
   "execution_count": 15,
   "metadata": {},
   "outputs": [
    {
     "name": "stdout",
     "output_type": "stream",
     "text": [
      "array2: \n",
      " [[0 1 2 3 4]\n",
      " [5 6 7 8 9]]\n"
     ]
    }
   ],
   "source": [
    "array2 = array1.reshape(2, 5)\n",
    "print('array2: \\n', array2)"
   ]
  },
  {
   "cell_type": "code",
   "execution_count": 16,
   "metadata": {},
   "outputs": [
    {
     "name": "stdout",
     "output_type": "stream",
     "text": [
      "array3: \n",
      " [[0 1]\n",
      " [2 3]\n",
      " [4 5]\n",
      " [6 7]\n",
      " [8 9]]\n"
     ]
    }
   ],
   "source": [
    "array3 = array1.reshape(5, 2)\n",
    "print('array3: \\n', array3)"
   ]
  },
  {
   "cell_type": "markdown",
   "metadata": {},
   "source": [
    "* reshape() 는 지정된 사이즈로 변경이 불가능하면 오류를 발생시킴"
   ]
  },
  {
   "cell_type": "code",
   "execution_count": 17,
   "metadata": {},
   "outputs": [
    {
     "ename": "ValueError",
     "evalue": "cannot reshape array of size 10 into shape (4,3)",
     "output_type": "error",
     "traceback": [
      "\u001b[0;31m---------------------------------------------------------------------------\u001b[0m",
      "\u001b[0;31mValueError\u001b[0m                                Traceback (most recent call last)",
      "\u001b[0;32m<ipython-input-17-a40469ec5825>\u001b[0m in \u001b[0;36m<module>\u001b[0;34m\u001b[0m\n\u001b[0;32m----> 1\u001b[0;31m \u001b[0marray1\u001b[0m\u001b[0;34m.\u001b[0m\u001b[0mreshape\u001b[0m\u001b[0;34m(\u001b[0m\u001b[0;36m4\u001b[0m\u001b[0;34m,\u001b[0m\u001b[0;36m3\u001b[0m\u001b[0;34m)\u001b[0m\u001b[0;34m\u001b[0m\u001b[0;34m\u001b[0m\u001b[0m\n\u001b[0m",
      "\u001b[0;31mValueError\u001b[0m: cannot reshape array of size 10 into shape (4,3)"
     ]
    }
   ],
   "source": [
    "array1.reshape(4,3)"
   ]
  },
  {
   "cell_type": "markdown",
   "metadata": {},
   "source": [
    "* reshape()의 인자를 -1로 적용하면, 원래 ndarray와 호환되는 새로운 ndarray로 변환해줌"
   ]
  },
  {
   "cell_type": "code",
   "execution_count": 18,
   "metadata": {},
   "outputs": [
    {
     "name": "stdout",
     "output_type": "stream",
     "text": [
      "[0 1 2 3 4 5 6 7 8 9]\n",
      "--------------------\n",
      "[[0 1 2 3 4]\n",
      " [5 6 7 8 9]]   -->   shape :  (2, 5)\n",
      "--------------------\n",
      "[[0 1]\n",
      " [2 3]\n",
      " [4 5]\n",
      " [6 7]\n",
      " [8 9]]   -->  shape:  (5, 2)\n"
     ]
    }
   ],
   "source": [
    "array1 = np.arange(10)\n",
    "print(array1)\n",
    "print('--------------------')\n",
    "array2 = array1.reshape(-1, 5)\n",
    "print(array2, '  -->   shape : ', array2.shape)\n",
    "print('--------------------')\n",
    "array3 = array1.reshape(5, -1)\n",
    "print(array3, '  -->  shape: ', array3.shape)"
   ]
  },
  {
   "cell_type": "markdown",
   "metadata": {},
   "source": [
    "* -1을 인자로 사용하더라도, 호환될 수 없는 형태로는 변환할 수 없음"
   ]
  },
  {
   "cell_type": "code",
   "execution_count": 19,
   "metadata": {},
   "outputs": [
    {
     "ename": "ValueError",
     "evalue": "cannot reshape array of size 10 into shape (4)",
     "output_type": "error",
     "traceback": [
      "\u001b[0;31m---------------------------------------------------------------------------\u001b[0m",
      "\u001b[0;31mValueError\u001b[0m                                Traceback (most recent call last)",
      "\u001b[0;32m<ipython-input-19-7e1461ea4d71>\u001b[0m in \u001b[0;36m<module>\u001b[0;34m\u001b[0m\n\u001b[0;32m----> 1\u001b[0;31m \u001b[0marray4\u001b[0m \u001b[0;34m=\u001b[0m \u001b[0marray1\u001b[0m\u001b[0;34m.\u001b[0m\u001b[0mreshape\u001b[0m\u001b[0;34m(\u001b[0m\u001b[0;34m-\u001b[0m\u001b[0;36m1\u001b[0m\u001b[0;34m,\u001b[0m \u001b[0;36m4\u001b[0m\u001b[0;34m)\u001b[0m\u001b[0;34m\u001b[0m\u001b[0;34m\u001b[0m\u001b[0m\n\u001b[0m",
      "\u001b[0;31mValueError\u001b[0m: cannot reshape array of size 10 into shape (4)"
     ]
    }
   ],
   "source": [
    "array4 = array1.reshape(-1, 4)"
   ]
  },
  {
   "cell_type": "markdown",
   "metadata": {},
   "source": [
    "* -1은 reshape(-1,1) 과 같은 형태로 자주 사용됨 --> 원본 ndarray가 어떤 형태라도 2차원이고, 여러개의 로우, 1개의 컬럼을 가진 ndarray로 변환함"
   ]
  },
  {
   "cell_type": "code",
   "execution_count": 20,
   "metadata": {},
   "outputs": [
    {
     "name": "stdout",
     "output_type": "stream",
     "text": [
      "1차원 array: \n",
      " [0 1 2 3 4 5 6 7]\n",
      "\n",
      "3차원 array: \n",
      " [[[0 1]\n",
      "  [2 3]]\n",
      "\n",
      " [[4 5]\n",
      "  [6 7]]]\n",
      "\n",
      "list로 변환된 array3d: \n",
      " [[[0, 1], [2, 3]], [[4, 5], [6, 7]]]\n",
      "\n",
      "array5: \n",
      " [[0]\n",
      " [1]\n",
      " [2]\n",
      " [3]\n",
      " [4]\n",
      " [5]\n",
      " [6]\n",
      " [7]]\n",
      "array5 shape:  (8, 1)\n",
      "\n",
      "array6: \n",
      " [[0]\n",
      " [1]\n",
      " [2]\n",
      " [3]\n",
      " [4]\n",
      " [5]\n",
      " [6]\n",
      " [7]]\n"
     ]
    }
   ],
   "source": [
    "array1 = np.arange(8)\n",
    "print('1차원 array: \\n', array1)\n",
    "\n",
    "# 1차원 ndarray를 3차원으로 변환\n",
    "array3d = array1.reshape((2,2,2))\n",
    "print('\\n3차원 array: \\n', array3d)\n",
    "print('\\nlist로 변환된 array3d: \\n', array3d.tolist()) # tolist() : list 형태로 변환\n",
    "\n",
    "\n",
    "# 3차원의 ndarray를 2차원으로 변환\n",
    "array5 = array3d.reshape(-1, 1)\n",
    "print('\\narray5: \\n', array5)\n",
    "print('array5 shape: ', array5.shape)\n",
    "\n",
    "# 1차원의 ndarray를 2차원으로 변환\n",
    "array6 = array1.reshape(-1,1)\n",
    "print('\\narray6: \\n', array6)"
   ]
  },
  {
   "cell_type": "markdown",
   "metadata": {},
   "source": [
    "# 넘파이의 ndarray의 데이터세트 선택하기 - 인덱싱(indexing)"
   ]
  },
  {
   "cell_type": "markdown",
   "metadata": {},
   "source": [
    "1. **특정 데이터만 추출** : 원하는 위치의 인덱스 값을 지정하면 해당 위치의 데이터가 반환\n",
    "2. **슬라이싱(slicing)** : 연속된 인덱스 상의 ndarray를 추출하는 방식\n",
    "3. **팬시 인덱싱(fancy indexing)** : 일정한 인덱싱 집합을 리스트 또는 ndarray 형태로 지정해 해당 위치에 있는 데이터의 ndarray를 반환\n",
    "4. **불린 인덱싱(boolean indexing)** : True/False 값 인덱싱 집합을 기반으로 True에 해당하는 인덱스 위치에 있는 데이터의 ndarray를 반환"
   ]
  },
  {
   "cell_type": "markdown",
   "metadata": {},
   "source": [
    "### 1. 특정 데이터만 추출\n",
    "\n",
    ": ndarray 객체에 해당하는 위치의 인덱스 값을 [] 안에 입력"
   ]
  },
  {
   "cell_type": "code",
   "execution_count": 21,
   "metadata": {},
   "outputs": [
    {
     "data": {
      "text/plain": [
       "array([1, 2, 3, 4, 5, 6, 7, 8, 9])"
      ]
     },
     "execution_count": 21,
     "metadata": {},
     "output_type": "execute_result"
    }
   ],
   "source": [
    "# 1부터 9까지의 1차원 ndarray 생성\n",
    "array1 = np.arange(start=1, stop=10)\n",
    "array1"
   ]
  },
  {
   "cell_type": "code",
   "execution_count": 22,
   "metadata": {},
   "outputs": [
    {
     "name": "stdout",
     "output_type": "stream",
     "text": [
      "value:  3\n",
      "<class 'numpy.int64'>\n"
     ]
    }
   ],
   "source": [
    "# index는 0부터 시작하므로 array1[2]는 3번째 index 위치의 데이터 값을 의미\n",
    "value = array1[2]\n",
    "print('value: ', value)\n",
    "print(type(value))"
   ]
  },
  {
   "cell_type": "code",
   "execution_count": 23,
   "metadata": {},
   "outputs": [
    {
     "name": "stdout",
     "output_type": "stream",
     "text": [
      "맨 뒤의 값:  9\n",
      "맨 뒤에서 두번째 값:  8\n"
     ]
    }
   ],
   "source": [
    "# 인덱스 -1은 맨 뒤의 데이터 값, -2는 맨뒤에서 두번째에 있는 데이터 값\n",
    "print('맨 뒤의 값: ', array1[-1])\n",
    "print('맨 뒤에서 두번째 값: ', array1[-2])"
   ]
  },
  {
   "cell_type": "markdown",
   "metadata": {},
   "source": [
    "* 단일 인덱스를 이용해 ndarray 내의 데이터 값도 수정 가능"
   ]
  },
  {
   "cell_type": "code",
   "execution_count": 24,
   "metadata": {},
   "outputs": [
    {
     "data": {
      "text/plain": [
       "array([9, 2, 3, 4, 5, 6, 7, 8, 0])"
      ]
     },
     "execution_count": 24,
     "metadata": {},
     "output_type": "execute_result"
    }
   ],
   "source": [
    "array1[0] = 9\n",
    "array1[8] = 0\n",
    "array1"
   ]
  },
  {
   "cell_type": "markdown",
   "metadata": {},
   "source": [
    "* 2차원 ndarray의 경우에는 ( , )로 로우와 컬럼의 위치 인덱스를 통해 접근"
   ]
  },
  {
   "cell_type": "code",
   "execution_count": 25,
   "metadata": {},
   "outputs": [
    {
     "name": "stdout",
     "output_type": "stream",
     "text": [
      "[[1 2 3]\n",
      " [4 5 6]\n",
      " [7 8 9]]\n"
     ]
    }
   ],
   "source": [
    "array1d = np.arange(start=1, stop = 10)\n",
    "array2d = array1d.reshape(3, 3)\n",
    "print(array2d)"
   ]
  },
  {
   "cell_type": "code",
   "execution_count": 26,
   "metadata": {},
   "outputs": [
    {
     "name": "stdout",
     "output_type": "stream",
     "text": [
      "(row=0, col =0) index 가리키는 값:  1\n",
      "(row=0, col=1) index 가리키는 값:  2\n",
      "(row=1, col=0) index 가리키는 값:  4\n",
      "(row=2, col=2) index 가리키는 값 9\n"
     ]
    }
   ],
   "source": [
    "print('(row=0, col =0) index 가리키는 값: ', array2d[0,0])\n",
    "print('(row=0, col=1) index 가리키는 값: ', array2d[0,1])\n",
    "print('(row=1, col=0) index 가리키는 값: ', array2d[1,0])\n",
    "print('(row=2, col=2) index 가리키는 값', array2d[2,2])"
   ]
  },
  {
   "cell_type": "markdown",
   "metadata": {},
   "source": [
    "### 2. 슬라이싱\n",
    "\n",
    "' : ' 기호를 이용\n",
    "\n",
    "* ' : ' 기호 앞에 시작 인덱스를 생략하면 자동으로 맨 처음인 0인 인덱스로 간주\n",
    "* ' : ' 기호 뒤에 종료 인덱스를 생략하면 자동으로 맨 마지막 인덱스로 간주\n",
    "* ' : ' 기호 앞뒤에 시작/종료 인덱스를 생략하면 자동으로 맨 처음/맨 마지막 인덱스로 간주 (결국, 전체 선택)"
   ]
  },
  {
   "cell_type": "code",
   "execution_count": 27,
   "metadata": {},
   "outputs": [
    {
     "name": "stdout",
     "output_type": "stream",
     "text": [
      "[1 2 3]\n",
      "<class 'numpy.ndarray'>\n"
     ]
    }
   ],
   "source": [
    "array1 = np.arange(1, 10)\n",
    "array3 = array1[0:3]\n",
    "print(array3)\n",
    "print(type(array3))"
   ]
  },
  {
   "cell_type": "code",
   "execution_count": 28,
   "metadata": {},
   "outputs": [
    {
     "name": "stdout",
     "output_type": "stream",
     "text": [
      "[1 2 3]\n",
      "[4 5 6 7 8 9]\n",
      "[1 2 3 4 5 6 7 8 9]\n"
     ]
    }
   ],
   "source": [
    "array4 = array1[:3]\n",
    "print(array4)\n",
    "\n",
    "array5 = array1[3:]\n",
    "print(array5)\n",
    "\n",
    "array6 = array1[:]\n",
    "print(array6)"
   ]
  },
  {
   "cell_type": "markdown",
   "metadata": {},
   "source": [
    "* 2차원 ndarray에서 슬라이싱으로 데이터 접근하기"
   ]
  },
  {
   "cell_type": "code",
   "execution_count": 29,
   "metadata": {},
   "outputs": [
    {
     "name": "stdout",
     "output_type": "stream",
     "text": [
      "array2d: \n",
      " [[1 2 3]\n",
      " [4 5 6]\n",
      " [7 8 9]]\n",
      "array2d[0:2, 0:2] \n",
      " [[1 2]\n",
      " [4 5]]\n",
      "array2d[1:3, 0:3] \n",
      " [[4 5 6]\n",
      " [7 8 9]]\n",
      "array2d[1:3, :] \n",
      " [[4 5 6]\n",
      " [7 8 9]]\n",
      "array2d[:,:] \n",
      " [[1 2 3]\n",
      " [4 5 6]\n",
      " [7 8 9]]\n",
      "array2d[:2, 1:] \n",
      " [[2 3]\n",
      " [5 6]]\n",
      "array2d[:2, 0] \n",
      " [1 4]\n"
     ]
    }
   ],
   "source": [
    "array2d = array1.reshape(3, 3)\n",
    "print('array2d: \\n', array2d)\n",
    "\n",
    "print('array2d[0:2, 0:2] \\n', array2d[0:2, 0:2])\n",
    "print('array2d[1:3, 0:3] \\n', array2d[1:3, 0:3])\n",
    "print('array2d[1:3, :] \\n', array2d[1:3, :])\n",
    "print('array2d[:,:] \\n', array2d[:,:])\n",
    "print('array2d[:2, 1:] \\n', array2d[:2, 1:])\n",
    "print('array2d[:2, 0] \\n', array2d[:2,0])"
   ]
  },
  {
   "cell_type": "markdown",
   "metadata": {},
   "source": [
    "2차원 ndarray에서 뒤에 오는 인덱스를 없애면 1차원 인덱스를 반환"
   ]
  },
  {
   "cell_type": "code",
   "execution_count": 30,
   "metadata": {},
   "outputs": [
    {
     "name": "stdout",
     "output_type": "stream",
     "text": [
      "[1 2 3]\n",
      "[4 5 6]\n",
      "array2d[0] shape:  (3,) array2d[1] shape:  (3,)\n"
     ]
    }
   ],
   "source": [
    "print(array2d[0])\n",
    "print(array2d[1])\n",
    "print('array2d[0] shape: ', array2d[0].shape, 'array2d[1] shape: ', array2d[1].shape)"
   ]
  },
  {
   "cell_type": "markdown",
   "metadata": {},
   "source": [
    "### 3. 팬시 인덱싱\n",
    "\n",
    "리스트나 ndarray로 인덱스 집합을 지정하면 해당 위치의 인덱스에 해당하는 ndarray를 반환하는 인덱싱 방식"
   ]
  },
  {
   "cell_type": "code",
   "execution_count": 31,
   "metadata": {},
   "outputs": [
    {
     "name": "stdout",
     "output_type": "stream",
     "text": [
      "array2d[[0,1], 2] ==>  [3, 6]\n",
      "array2d[[0,1], 0:2] ==> [[1, 2], [4, 5]]\n",
      "array2d[[0,1]] ==> [[1, 2, 3], [4, 5, 6]]\n"
     ]
    }
   ],
   "source": [
    "array1d = np.arange(1, 10)\n",
    "array2d = array1d.reshape(3,3)\n",
    "\n",
    "array3 = array2d[[0, 1], 2]\n",
    "print('array2d[[0,1], 2] ==> ', array3.tolist())\n",
    "\n",
    "array4 = array2d[[0, 1], 0:2]\n",
    "print('array2d[[0,1], 0:2] ==>', array4.tolist())\n",
    "\n",
    "array5 = array2d[[0,1]]\n",
    "print('array2d[[0,1]] ==>', array5.tolist())"
   ]
  },
  {
   "cell_type": "markdown",
   "metadata": {},
   "source": [
    "### 4. 불린 인덱싱\n",
    "\n",
    ": 조건 필터링과 검색을 동시에 할 수 있기 때문에, 매우 자주 사용되는 인덱싱 방식\n",
    "\n",
    "ndarray의 인덱스를 지정하는 [] 내에 조건문을 그대로 기재"
   ]
  },
  {
   "cell_type": "code",
   "execution_count": 32,
   "metadata": {},
   "outputs": [
    {
     "name": "stdout",
     "output_type": "stream",
     "text": [
      "[False False False False False  True  True  True  True]\n",
      "array1d > 5 불린 인덱싱 결과 값:  [6 7 8 9]\n"
     ]
    }
   ],
   "source": [
    "array1d = np.arange(1, 10)\n",
    "# array1d > 5 조화결과\n",
    "print(array1d > 5)\n",
    "# [ ] 안에 array1d > 5 Boolean indexing을 적용\n",
    "array3 = array1d[array1d > 5]\n",
    "print('array1d > 5 불린 인덱싱 결과 값: ', array3)"
   ]
  },
  {
   "cell_type": "code",
   "execution_count": 33,
   "metadata": {},
   "outputs": [
    {
     "name": "stdout",
     "output_type": "stream",
     "text": [
      "[6 7 8 9]\n"
     ]
    }
   ],
   "source": [
    "# array1d > 5와 동일한 ndarray를 array1d[ ]안에 입력하면 동일한 데이터 세트가 반환\n",
    "boolean_indices = np.array([False, False, False, False, False, True, True, True, True])\n",
    "array3 = array1d[boolean_indices]\n",
    "print(array3)"
   ]
  },
  {
   "cell_type": "markdown",
   "metadata": {},
   "source": [
    "# 행렬의 정렬 -sort()와 argsort()"
   ]
  },
  {
   "cell_type": "markdown",
   "metadata": {},
   "source": [
    "### 행렬 정렬\n",
    "\n",
    "* np.sort() : 넘파이에서 sort()를 호출   -->   원행렬은 그대로 유지한 채, 정렬된 행렬을 반환\n",
    "* ndarray.sort() : 원 행렬 자체를 정렬한 형태로 변환하며 별도로 반환하는 값은 없음"
   ]
  },
  {
   "cell_type": "code",
   "execution_count": 34,
   "metadata": {},
   "outputs": [
    {
     "name": "stdout",
     "output_type": "stream",
     "text": [
      "원본 행렬:  [3 1 9 5]\n",
      "np.sort() 호출 후 반환된 정렬 행렬:  [1 3 5 9]\n",
      "np.sort() 호출 후 원본 행렬:  [3 1 9 5]\n",
      "org_array.sort() 호출 후 반환된 행렬:  None\n",
      "org_array.sort() 호출 후 원본 행렬:  [1 3 5 9]\n"
     ]
    }
   ],
   "source": [
    "org_array = np.array( [3, 1, 9, 5])\n",
    "print('원본 행렬: ', org_array)\n",
    "\n",
    "# np.sort()로 정렬\n",
    "sort_array1 = np.sort(org_array)\n",
    "print('np.sort() 호출 후 반환된 정렬 행렬: ', sort_array1)\n",
    "print('np.sort() 호출 후 원본 행렬: ', org_array)\n",
    "\n",
    "#ndarray.sort()로 정렬\n",
    "sort_array2 = org_array.sort()\n",
    "print('org_array.sort() 호출 후 반환된 행렬: ', sort_array2)\n",
    "print('org_array.sort() 호출 후 원본 행렬: ', org_array)"
   ]
  },
  {
   "cell_type": "markdown",
   "metadata": {},
   "source": [
    "* 기본적으로 오름차순으로 행렬 내 원소를 정렬함\n",
    "  - 내림차순으로 정렬하기 위해서는 [::-1] 을 적용"
   ]
  },
  {
   "cell_type": "code",
   "execution_count": 35,
   "metadata": {},
   "outputs": [
    {
     "name": "stdout",
     "output_type": "stream",
     "text": [
      "내림차순으로 정렬:  [9 5 3 1]\n"
     ]
    }
   ],
   "source": [
    "sort_array1_desc = np.sort(org_array)[::-1]\n",
    "print('내림차순으로 정렬: ', sort_array1_desc)"
   ]
  },
  {
   "cell_type": "markdown",
   "metadata": {},
   "source": [
    "* 행렬이 2차원 이상일 경우 axis 축 값 설정을 통해 로우 방향, 또는 컬럼 방향으로 정렬을 수행할 수 있음"
   ]
  },
  {
   "cell_type": "code",
   "execution_count": 36,
   "metadata": {},
   "outputs": [
    {
     "name": "stdout",
     "output_type": "stream",
     "text": [
      "로우 방향으로 정렬 : \n",
      " [[ 7  1]\n",
      " [ 8 12]]\n",
      "컬럼 방향으로 정렬 : \n",
      " [[ 8 12]\n",
      " [ 1  7]]\n"
     ]
    }
   ],
   "source": [
    "array2d = np.array([[8, 12], \n",
    "                              [7, 1]])\n",
    "\n",
    "sort_array2d_axis0 = np.sort(array2d, axis = 0)\n",
    "print('로우 방향으로 정렬 : \\n', sort_array2d_axis0)\n",
    "\n",
    "sort_array2d_axis1 = np.sort(array2d, axis = 1)\n",
    "print('컬럼 방향으로 정렬 : \\n', sort_array2d_axis1)"
   ]
  },
  {
   "cell_type": "markdown",
   "metadata": {},
   "source": [
    "### 정렬된 행렬의 인덱스 반환하기\n",
    "\n",
    "* np.argsort() :  원본 행렬이 정렬되었을 때, 기존 원본 행렬의 원소에 대한 인덱스가 필요할 때 사용 --> 원본 행렬의 인덱스를 ndarray 형태로 반환"
   ]
  },
  {
   "cell_type": "code",
   "execution_count": 37,
   "metadata": {},
   "outputs": [
    {
     "name": "stdout",
     "output_type": "stream",
     "text": [
      "<class 'numpy.ndarray'>\n",
      "행렬 정렬 시 원본 행렬의 인덱스:  [1 0 3 2]\n"
     ]
    }
   ],
   "source": [
    "org_array = np.array( [ 3, 1, 9, 5])\n",
    "sort_indices = np.argsort(org_array)\n",
    "print(type(sort_indices))\n",
    "print('행렬 정렬 시 원본 행렬의 인덱스: ', sort_indices)"
   ]
  },
  {
   "cell_type": "markdown",
   "metadata": {},
   "source": [
    "* 내림차순으로 정렬 시  [::-1] 을 적용"
   ]
  },
  {
   "cell_type": "code",
   "execution_count": 38,
   "metadata": {},
   "outputs": [
    {
     "name": "stdout",
     "output_type": "stream",
     "text": [
      "행렬 내림차순 정렬 시 원본 행렬의 인덱스:  [2 3 0 1]\n"
     ]
    }
   ],
   "source": [
    "sort_indices_desc = np.argsort(org_array)[::-1]\n",
    "print('행렬 내림차순 정렬 시 원본 행렬의 인덱스: ', sort_indices_desc)"
   ]
  },
  {
   "cell_type": "markdown",
   "metadata": {},
   "source": [
    "# 선형대수 연산 - 행렬 내적과 전치행렬 구하기"
   ]
  },
  {
   "cell_type": "markdown",
   "metadata": {},
   "source": [
    "### 행렬 내적(행렬곱)"
   ]
  },
  {
   "cell_type": "markdown",
   "metadata": {},
   "source": [
    "* 행렬 A와 행렬 B의 내적은 np.dot() 을 이용해 계산"
   ]
  },
  {
   "cell_type": "code",
   "execution_count": 39,
   "metadata": {},
   "outputs": [
    {
     "name": "stdout",
     "output_type": "stream",
     "text": [
      "행렬 A와 B의 내적: \n",
      " [[ 58  64]\n",
      " [139 154]]\n"
     ]
    }
   ],
   "source": [
    "A = np.array([[1, 2, 3, ], \n",
    "                        [4, 5, 6]])\n",
    "B = np.array([[7,8],\n",
    "                     [9,10],\n",
    "                     [11,12]])\n",
    "\n",
    "dot_product = np.dot(A, B)\n",
    "print('행렬 A와 B의 내적: \\n', dot_product)"
   ]
  },
  {
   "cell_type": "markdown",
   "metadata": {},
   "source": [
    "### 전치 행렬\n",
    "* 원행렬의 행과 열 위치를 바꾼 행렬로 np.transpose()를 이용"
   ]
  },
  {
   "cell_type": "code",
   "execution_count": 40,
   "metadata": {},
   "outputs": [
    {
     "name": "stdout",
     "output_type": "stream",
     "text": [
      "A의 전치행렬 : \n",
      " [[1 3]\n",
      " [2 4]]\n"
     ]
    }
   ],
   "source": [
    "A = np.array([[1, 2],\n",
    "                     [3, 4]])\n",
    "\n",
    "transpose_mat = np.transpose(A)\n",
    "print('A의 전치행렬 : \\n', transpose_mat)"
   ]
  }
 ],
 "metadata": {
  "kernelspec": {
   "display_name": "Python 3",
   "language": "python",
   "name": "python3"
  },
  "language_info": {
   "codemirror_mode": {
    "name": "ipython",
    "version": 3
   },
   "file_extension": ".py",
   "mimetype": "text/x-python",
   "name": "python",
   "nbconvert_exporter": "python",
   "pygments_lexer": "ipython3",
   "version": "3.7.3"
  }
 },
 "nbformat": 4,
 "nbformat_minor": 2
}
